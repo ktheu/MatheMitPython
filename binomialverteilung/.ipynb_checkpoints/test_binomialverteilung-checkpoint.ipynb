{
 "cells": [
  {
   "cell_type": "markdown",
   "id": "b6b057e1-b268-4750-ac33-b72e0592b8da",
   "metadata": {},
   "source": [
    "### Testen mit der Binomialverteilung\n",
    "\n",
    "[Video](https://youtu.be/YQJc0jhwvWk)\n",
    "\n",
    "In den meisten Fällen bietet das Bild von der Gerichtsverhandlung einen Hinweis darauf, was als H0-Hypothese zu betrachten ist und was für eine Art von Test durchzuführen ist.\n",
    "\n",
    "Die H0-Hypothese ist der Angeklagte. Der Angeklagte gilt als unschuldig, solange es dem Staatsanwalt nicht gelingt, dem Gericht signifikante Beweise für seine Schuld vorzulegen. Die H0-Hypothese gilt als akzeptiert, solange der Test nicht zeigt, dass es eine signifikante Abweichung gibt.\n",
    "\n",
    "Der Richter muss entscheiden, ob eine gegebenenfalls vorliegende Abweichung des Testergebnisses von dem, was H0 behauptet, so signifikant ist, dass H0 verurteilt werden kann (abgelehnt wird). Je kleiner das Signifikanzniveau gewählt wird, desto kleiner wird der Ablehnungsbereich, d.h. desto großzügiger akzeptiert der Richter Abweichungen. Je kleiner das Signifikanzniveau, desto kleiner die Wahrscheinlichkeit, dass der Richter H0 zu unrecht verurteilt.\n",
    "\n",
    "\n",
    "<img src='test1.png' width='852'>"
   ]
  },
  {
   "cell_type": "code",
   "execution_count": null,
   "id": "9cd4ee51-65d5-49a3-96fc-c847d171e013",
   "metadata": {},
   "outputs": [],
   "source": [
    "from scipy.stats import binom\n",
    "import matplotlib.pyplot as plt\n",
    "import numpy as np"
   ]
  },
  {
   "cell_type": "markdown",
   "id": "5c8c818c-11fa-46cd-960e-49274ba50d75",
   "metadata": {},
   "source": [
    "#### Rechtsseitiger Test"
   ]
  },
  {
   "cell_type": "code",
   "execution_count": null,
   "id": "b66f6b9a-23eb-4103-94ba-c7d4bd2b68ec",
   "metadata": {},
   "outputs": [],
   "source": [
    "'''\n",
    "Ein Großhandelsshop verkauft eine neue Sorte Saatgut. Der Leiter behauptet, dass unter normalen Bedingungen mehr\n",
    "als 85% der Samen keimen. Dies möchte er durch einen Test untermauern. Die Nullhypothese \"Es keimen höchstens 85% der Samen\" \n",
    "wird mit einem Stichprobenumfang von 500 Samenkörnern und dem Signifikanzniveau alpha = 5% getestet\n",
    "a. Bestimmen Sie den Ablehnungsbereich und formulieren Sie die Entscheidungsregel\n",
    "b. Geben Sie die Irrtumswahrscheinlichkeit an\n",
    "'''\n",
    "n = 500\n",
    "p = 0.85\n",
    "alpha = 0.05\n",
    "\n",
    "# kleinstes k, mit 1-P(X<=k-1) <= alpha\n",
    "k = n        # Falls alles angenommen wird\n",
    "while 1-binom.cdf(k-1,n,p) <= alpha:\n",
    "    k -= 1   \n",
    "k_crit = k+1         # das letzte -1 muss wieder zurückgenommen werden\n",
    "\n",
    "print(f\"Ablehnungsbereich: {k_crit}...{n}\")"
   ]
  },
  {
   "cell_type": "markdown",
   "id": "8bea9f2c-e044-4f88-b6a1-e8557318aaf2",
   "metadata": {},
   "source": [
    "Entscheidungsregel: Falls mehr als 439 Samenkörner keimen gilt das als Bestätigung der Behauptung, dass normalerweise mehr als 85% der Samen keimen."
   ]
  },
  {
   "cell_type": "code",
   "execution_count": null,
   "id": "bc51901e-44c6-45e3-abae-e0ffe319e75f",
   "metadata": {},
   "outputs": [],
   "source": [
    "f1 = 1-binom.cdf(k_crit-1,n,p)\n",
    "print(f\"Irrtumswahrscheinlichkeit: {f1:.3f}\")"
   ]
  },
  {
   "cell_type": "code",
   "execution_count": null,
   "id": "5b8adf75-8b41-430b-9ade-4cdaa799a6fa",
   "metadata": {},
   "outputs": [],
   "source": [
    "# Visualisierung\n",
    "x = np.arange(n + 1)\n",
    "y = binom.pmf(x, n, p)\n",
    "\n",
    "# Farbe: rot im Ablehnungsbereich, grau sonst\n",
    "colors = ['red' if xi >= k_crit else 'gray' for xi in x]\n",
    "\n",
    "plt.bar(x, y, color=colors)\n",
    "plt.axvline(k_crit, color='black', linestyle='--', label=f'kritischer Wert: {k_crit}')\n",
    "plt.title(f'Binomialverteilung (n={n}, p={p})\\nRechtsseitiger Test mit α={alpha}')\n",
    "plt.xlabel('k')\n",
    "plt.xlim(400,450)\n",
    "plt.ylabel('P(X = k)')\n",
    "plt.legend()\n",
    "plt.tight_layout()\n",
    "plt.show()"
   ]
  },
  {
   "cell_type": "markdown",
   "id": "9f40b4bd-0704-4d6e-aa6c-e8665beb86ba",
   "metadata": {},
   "source": [
    "#### Linksseitiger Test"
   ]
  },
  {
   "cell_type": "code",
   "execution_count": null,
   "id": "ad7071ec-ff37-4465-9cfa-622b2f2cc327",
   "metadata": {},
   "outputs": [],
   "source": [
    "'''\n",
    "Bei der Produktion von elektronischen Bauteilen beträgt der Anteil defekter Teile erfahrungsgemäß 8%.\n",
    "Nach Veränderungen im Produktionsprozess vermutet man, dass sich dieser Anteil verringert hat. \n",
    "Dazu wird eine Stichprobe von 200 Teilen entnommen. \n",
    "Formuliere eine Entscheidungsregel mit Signifikanzniveau 0.05 und bestimme die Irrtumswahrscheinlichkeit.\n",
    "'''\n",
    "\n",
    "n = 200\n",
    "p = 0.08\n",
    "alpha = 0.05\n",
    "k = 0\n",
    "# größtes k mit P(X<=k) <= alpha:\n",
    "while binom.cdf(k,n,p) <= alpha:\n",
    "    k+=1\n",
    "k_crit = k-1\n",
    "print(f'Ablehnungsbereich: 0...{k_crit}')"
   ]
  },
  {
   "cell_type": "code",
   "execution_count": null,
   "id": "aba1e3d7-8448-469d-93ca-f59a4a14fb74",
   "metadata": {},
   "outputs": [],
   "source": [
    "# Visualisierung\n",
    "x = np.arange(n + 1)\n",
    "y = binom.pmf(x, n, p)\n",
    "\n",
    "# Farbe: rot im Ablehnungsbereich, grau sonst\n",
    "colors = ['red' if xi <= k_crit else 'gray' for xi in x]\n",
    "\n",
    "plt.bar(x, y, color=colors)\n",
    "plt.axvline(k_crit, color='black', linestyle='--', label=f'kritischer Wert: {k_crit}')\n",
    "plt.title(f'Binomialverteilung (n={n}, p={p})\\nLinksseitiger Test mit α={alpha}')\n",
    "plt.xlabel('k')\n",
    "plt.ylabel('P(X = k)')\n",
    "plt.xlim(0,40)\n",
    "plt.legend()\n",
    "plt.tight_layout()\n",
    "plt.show()"
   ]
  },
  {
   "cell_type": "code",
   "execution_count": 149,
   "id": "ec9444b6-97fa-4cad-8095-f210283e15ec",
   "metadata": {},
   "outputs": [
    {
     "name": "stdout",
     "output_type": "stream",
     "text": [
      "Ablehnungsbereich: 0...9\n"
     ]
    }
   ],
   "source": [
    "'''\n",
    "Alexandra hat ein Glücksrad gebaut. Yannik behauptet, die Gewinnwahrscheinlichkeit sei kleiner als 25%. \n",
    "Formuliere einen Test mit Stichprobenumfang 60 mit Signifikanzniveau 5%, bestimme den Ablehungsbereich und formuliere eine Entscheidungsregel\n",
    "'''\n",
    "n = 60\n",
    "p = 0.25\n",
    "alpha = 0.05\n",
    "k = 0\n",
    "while binom.cdf(k,n,p) <= alpha:\n",
    "    k+=1\n",
    "k_crit = k-1\n",
    "print(f'Ablehnungsbereich: 0...{k_crit}')"
   ]
  },
  {
   "cell_type": "markdown",
   "id": "c4d4a8ac-a4cb-4661-9eb0-ee255889f98d",
   "metadata": {},
   "source": [
    "Entscheidungsregel: Wenn nur 0..9 Gewinne auftreten, wird Yanniks Behauptung akzeptiert."
   ]
  },
  {
   "cell_type": "markdown",
   "id": "fa151016-5afb-4078-ba2a-e5702d923b60",
   "metadata": {},
   "source": [
    "#### Fehler der 1. und 2. Art\n",
    "\n",
    "<img src='test2.png' width='900'>\n",
    "\n"
   ]
  },
  {
   "cell_type": "code",
   "execution_count": 150,
   "id": "fd1b62ee-ca28-4a19-91b2-8840331d5af4",
   "metadata": {},
   "outputs": [
    {
     "name": "stdout",
     "output_type": "stream",
     "text": [
      "Ablehnungsbereich 129...n\n"
     ]
    }
   ],
   "source": [
    "'''\n",
    "Ein Handwärmer erhitzt sich nach Klicken eines Metallplättchens. Wird er nach Gebrauch\n",
    "in kochendes Wasser gelegt, kann er erneut verwendet werden. Funktioniert dies mindestens\n",
    "40-mal, so gilt der Handwärmer als voll funktionsfähig. Bei der Herstellerfirma soll ein Test\n",
    "mit der Nullhypothese \"Höchstens 80% der Handwärmer sind voll funktionsfähig\" mit einem\n",
    "Stichprobenumfang von 150 und Signifikanzniveau 5% durchgeführt werden.\n",
    "a. Bestimme die Wahrscheinlichkeit des Fehlers 1.Art\n",
    "b. Berechne die Wahrscheinlichkeit des Fehlers 2.Art, wenn sogar tatsächlich 90% der Handwärmer voll funktionsfähig sind.\n",
    "'''\n",
    "n = 150\n",
    "p = 0.8\n",
    "alpha = 0.05\n",
    "# Test rechts\n",
    "k = n+1\n",
    "while 1-binom.cdf(k-1,n,p) <= alpha:\n",
    "    k-=1\n",
    "k_crit = k+1\n",
    "print(f'Ablehnungsbereich {k_crit}...n')"
   ]
  },
  {
   "cell_type": "code",
   "execution_count": 151,
   "id": "a58496fb-bfd0-4e88-a7f7-0aa994877cc3",
   "metadata": {},
   "outputs": [
    {
     "name": "stdout",
     "output_type": "stream",
     "text": [
      "Wahrscheinlichkeit für Fehler 1. Art 0.037\n"
     ]
    }
   ],
   "source": [
    "# Wahrscheinlichkeit für Fehler 1. Art\n",
    "f1 = 1-binom.cdf(k_crit-1,n,p)\n",
    "print(f'Wahrscheinlichkeit für Fehler 1. Art {f1:.3f}')"
   ]
  },
  {
   "cell_type": "code",
   "execution_count": 152,
   "id": "c72637bb-d0ee-4abe-98fd-395de8c4152d",
   "metadata": {},
   "outputs": [
    {
     "name": "stdout",
     "output_type": "stream",
     "text": [
      "Wahrscheinlichkeit für Fehler 2. Art 0.044\n"
     ]
    }
   ],
   "source": [
    "# Wahrscheinlichkeit für Fehler 2. Art\n",
    "pt = 0.9    # pt = p das True ist\n",
    "f2 = binom.cdf(k_crit-1,n,pt)\n",
    "print(f'Wahrscheinlichkeit für Fehler 2. Art {f2:.3f}') "
   ]
  },
  {
   "cell_type": "code",
   "execution_count": 153,
   "id": "c2b891cb-a11d-4b17-a7e7-b8e693bf9465",
   "metadata": {},
   "outputs": [
    {
     "name": "stdout",
     "output_type": "stream",
     "text": [
      "a. Wahrscheinlichkeit für Fehler 1. Art 0.034\n",
      "b. Wahrscheinlichkeit für Fehler 2. Art 0.472\n",
      "c. Wahrscheinlichkeit für Fehler 2. Art 0.041\n"
     ]
    }
   ],
   "source": [
    "'''\n",
    "Ein Landwirt bezieht Rapssamen von einem Großhändler. Dieser gibt an, dass deren Keimfähigkeit mindestens 85% betrage.\n",
    "Der Landwirt zweifelt daran und möchte 200 Rapssamen untersuchen. Er wählt die Entscheidungsregel: Wenn höchstens\n",
    "160 Rapssamen keimen, gehe ich davon aus, dass die Keimfähigkeit unter 85% liegt, und reklamiere die Lieferung.\n",
    "a. Bestimme die Wahrscheinlichkeit des Fehlers 1. Art\n",
    "b. In Wirklichkeit ist die Keimfähigkeit der Samen nur 80%. Bestimme die Wahrscheinlichkeit des Fehlers zweiter Art.\n",
    "c  Bestimme die Wahrscheinlichkeit des Fehlers zweiter Art, wenn die Keimfähigkeit nur 75% beträgt.\n",
    "'''\n",
    "n = 200\n",
    "p = 0.85\n",
    "# Test links\n",
    "f1 = binom.cdf(160,n,p)\n",
    "print(f'a. Wahrscheinlichkeit für Fehler 1. Art {f1:.3f}') \n",
    "\n",
    "p1 = 0.80\n",
    "f2 = 1-binom.cdf(160,n,p1)\n",
    "print(f'b. Wahrscheinlichkeit für Fehler 2. Art {f2:.3f}') \n",
    "\n",
    "p1 = 0.75\n",
    "f2 = 1-binom.cdf(160,n,p1)\n",
    "print(f'c. Wahrscheinlichkeit für Fehler 2. Art {f2:.3f}') "
   ]
  },
  {
   "cell_type": "markdown",
   "id": "c5599a6e-982b-4562-aba5-876009305b82",
   "metadata": {},
   "source": [
    "#### Zweiseitiger Hypothesentest\n",
    "\n",
    "Der Ablehnungsbereich wird links und rechts mit einem Signifikanzniveau von alpha/2 berechnet.\n",
    "\n",
    "<img src='test3.png' width='850'>"
   ]
  },
  {
   "cell_type": "code",
   "execution_count": 154,
   "id": "839b27eb-c027-4da7-bd04-be5af96ff561",
   "metadata": {},
   "outputs": [
    {
     "name": "stdout",
     "output_type": "stream",
     "text": [
      "Ablehnungsbereich links 0...9\n",
      "Ablehnungsbereich rechts 25..100\n"
     ]
    }
   ],
   "source": [
    "'''\n",
    "Beträgt die Wahrscheinlichkeit eine 6 bei einem Würfel zu Würfeln wirklich 1/6? \n",
    "Wir testen 100 mal\n",
    "'''\n",
    "n = 100\n",
    "p = 1/6\n",
    "alpha = 0.05\n",
    "\n",
    "k = 0\n",
    "while binom.cdf(k,n,p) <= alpha/2:\n",
    "    k+=1\n",
    "k_links = k-1\n",
    "print(f'Ablehnungsbereich links 0...{k_links}')\n",
    "\n",
    "k = n+1\n",
    "while 1-binom.cdf(k-1,n,p) <= alpha/2:\n",
    "    k-=1\n",
    "k_rechts = k+1\n",
    "print(f'Ablehnungsbereich rechts {k_rechts}..{n}')\n"
   ]
  },
  {
   "cell_type": "code",
   "execution_count": 155,
   "id": "c2ab2853-9ede-4406-a189-99faa602146a",
   "metadata": {},
   "outputs": [
    {
     "name": "stdout",
     "output_type": "stream",
     "text": [
      "Ablehnungsbereich links 0...7\n",
      "Ablehnungsbereich rechts 23..100\n"
     ]
    }
   ],
   "source": [
    "'''\n",
    "Bei einem Glücksspielautomaten soll mit einer Wahrscheinlichkeit von 15% die\n",
    "Kombination '3-mal Goldmünze' erscheinen. Dies soll durch einen Test mit einem\n",
    "Stichprobenumfang von 100 mit Signifikanzniveau 5% überprüft werden.\n",
    "a. Gib die Wahrscheinlichkeit für einen Fehler der 1. Art an\n",
    "b. Gib die Wahrscheinlichkeit für einen Fehler der 2. Art an, wenn die Kombination\n",
    "tatsächlich mit einer Wahrscheinlichkeit von 10% erscheint.\n",
    "'''\n",
    "n = 100\n",
    "p = 0.15\n",
    "alpha = 0.05\n",
    "\n",
    "k = 0\n",
    "while binom.cdf(k,n,p) <= alpha/2:\n",
    "    k+=1\n",
    "k_links = k-1\n",
    "print(f'Ablehnungsbereich links 0...{k_links}')\n",
    "\n",
    "k = n+1\n",
    "while 1-binom.cdf(k-1,n,p) <= alpha/2:\n",
    "    k-=1\n",
    "k_rechts = k+1\n",
    "print(f'Ablehnungsbereich rechts {k_rechts}..{n}')"
   ]
  },
  {
   "cell_type": "code",
   "execution_count": 156,
   "id": "8c432cc8-8d1a-4059-8a66-48ead44add38",
   "metadata": {},
   "outputs": [
    {
     "name": "stdout",
     "output_type": "stream",
     "text": [
      "Fehler 1. Art 0.034\n"
     ]
    }
   ],
   "source": [
    "# Fehler 1. Art\n",
    "f1 = binom.cdf(k_links,n,p) + 1-binom.cdf(k_rechts-1,n,p)\n",
    "print(f'Fehler 1. Art {f1:.3f}')"
   ]
  },
  {
   "cell_type": "code",
   "execution_count": 157,
   "id": "6d83bdce-ab0e-4939-bfe3-1d7d339ff099",
   "metadata": {},
   "outputs": [
    {
     "name": "stdout",
     "output_type": "stream",
     "text": [
      "Fehler 2. Art 0.794\n"
     ]
    }
   ],
   "source": [
    "# Fehler 2. Art\n",
    "p = 0.1\n",
    "f2 = binom.cdf(k_rechts-1,n,p) - binom.cdf(k_links,n,p)\n",
    "print(f'Fehler 2. Art {f2:.3f}')"
   ]
  },
  {
   "cell_type": "code",
   "execution_count": null,
   "id": "975a9941-d04f-4f89-afb0-93523c42d312",
   "metadata": {},
   "outputs": [],
   "source": []
  }
 ],
 "metadata": {
  "kernelspec": {
   "display_name": "Python 3 (ipykernel)",
   "language": "python",
   "name": "python3"
  },
  "language_info": {
   "codemirror_mode": {
    "name": "ipython",
    "version": 3
   },
   "file_extension": ".py",
   "mimetype": "text/x-python",
   "name": "python",
   "nbconvert_exporter": "python",
   "pygments_lexer": "ipython3",
   "version": "3.12.8"
  }
 },
 "nbformat": 4,
 "nbformat_minor": 5
}
